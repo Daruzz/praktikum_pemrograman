{
 "cells": [
  {
   "cell_type": "code",
   "execution_count": 9,
   "metadata": {},
   "outputs": [
    {
     "name": "stdout",
     "output_type": "stream",
     "text": [
      "total komisi dan gaji adalah Rp 2400.0\n"
     ]
    },
    {
     "ename": "ValueError",
     "evalue": "could not convert string to float: ''",
     "output_type": "error",
     "traceback": [
      "\u001b[1;31m---------------------------------------------------------------------------\u001b[0m",
      "\u001b[1;31mValueError\u001b[0m                                Traceback (most recent call last)",
      "Cell \u001b[1;32mIn[9], line 3\u001b[0m\n\u001b[0;32m      1\u001b[0m tekan\u001b[38;5;241m=\u001b[39m\u001b[38;5;124m\"\u001b[39m\u001b[38;5;124my\u001b[39m\u001b[38;5;124m\"\u001b[39m\n\u001b[0;32m      2\u001b[0m \u001b[38;5;28;01mwhile\u001b[39;00m tekan \u001b[38;5;241m==\u001b[39m \u001b[38;5;124m'\u001b[39m\u001b[38;5;124my\u001b[39m\u001b[38;5;124m'\u001b[39m:\n\u001b[1;32m----> 3\u001b[0m     penjualan \u001b[38;5;241m=\u001b[39m \u001b[38;5;28;43mfloat\u001b[39;49m\u001b[43m(\u001b[49m\u001b[38;5;28;43minput\u001b[39;49m\u001b[43m(\u001b[49m\u001b[38;5;124;43m'\u001b[39;49m\u001b[38;5;124;43mmasukkan jumlah penjualan: \u001b[39;49m\u001b[38;5;124;43m'\u001b[39;49m\u001b[43m)\u001b[49m\u001b[43m)\u001b[49m\n\u001b[0;32m      4\u001b[0m     komisi \u001b[38;5;241m=\u001b[39m \u001b[38;5;28mfloat\u001b[39m(\u001b[38;5;28minput\u001b[39m(\u001b[38;5;124m'\u001b[39m\u001b[38;5;124mmasukkan nilai komisi (0-100): \u001b[39m\u001b[38;5;124m'\u001b[39m))\n\u001b[0;32m      5\u001b[0m     Nikomisi \u001b[38;5;241m=\u001b[39m (penjualan \u001b[38;5;241m*\u001b[39m komisi\u001b[38;5;241m/\u001b[39m\u001b[38;5;241m100\u001b[39m) \u001b[38;5;241m+\u001b[39m penjualan\n",
      "\u001b[1;31mValueError\u001b[0m: could not convert string to float: ''"
     ]
    }
   ],
   "source": [
    "tekan=\"y\"\n",
    "while tekan == 'y':\n",
    "    penjualan = float(input('masukkan jumlah penjualan: '))\n",
    "    komisi = float(input('masukkan nilai komisi (0-100): '))\n",
    "    Nikomisi = (penjualan * komisi/100) + penjualan\n",
    "    print ('total komisi dan gaji adalah Rp', Nikomisi)\n",
    "    \n",
    "    tekan = input('apakah ingin melanjutkan (Enter y for yes or for no)')\n",
    "    if tekan==\"n\":\n",
    "        break"
   ]
  },
  {
   "cell_type": "code",
   "execution_count": 5,
   "metadata": {},
   "outputs": [
    {
     "name": "stdout",
     "output_type": "stream",
     "text": [
      "input nol tidak diizinkan. coba lagi\n",
      "anda memasukkan nilai postif pada program ini\n",
      "anda memasukkan nilai postif pada program ini\n",
      "inputan tidak boleh negatif ya\n"
     ]
    }
   ],
   "source": [
    "data=0\n",
    "while data>=0:\n",
    "    data = int(input(\"Masukkan data bilangan\"))\n",
    "    if data > 0:\n",
    "        print('anda memasukkan nilai postif pada program ini')\n",
    "    elif data < 0:\n",
    "        print(\"inputan tidak boleh negatif ya\")\n",
    "        break\n",
    "    else:\n",
    "        print(\"input nol tidak diizinkan. coba lagi\")"
   ]
  },
  {
   "cell_type": "code",
   "execution_count": 8,
   "metadata": {},
   "outputs": [
    {
     "name": "stdout",
     "output_type": "stream",
     "text": [
      "operasi aritmatika\n",
      "1.Operasi penjumlahan\n",
      "2.Operasi pengurangan\n",
      "3.Operasi perkalian\n",
      "4.Operasi pembagian\n",
      "5.Keluar\n",
      "anda memilih operasi perkalian\n",
      "perkalian dari 10 * 20 adalah 200\n",
      "operasi aritmatika\n",
      "1.Operasi penjumlahan\n",
      "2.Operasi pengurangan\n",
      "3.Operasi perkalian\n",
      "4.Operasi pembagian\n",
      "5.Keluar\n"
     ]
    }
   ],
   "source": [
    "while True:\n",
    "    print(\"operasi aritmatika\")\n",
    "    print(\"1.Operasi penjumlahan\")\n",
    "    print(\"2.Operasi pengurangan\")\n",
    "    print(\"3.Operasi perkalian\")\n",
    "    print(\"4.Operasi pembagian\")\n",
    "    print(\"5.Keluar\")\n",
    "\n",
    "    pilih=int(input(\"masukkan pilihan 1/2/3/4/5\"))\n",
    "    if pilih==1:\n",
    "        print(\"anda memilih operasi penjumlahan\")\n",
    "        a=int(input(\"Masukkan angka ke 1\"))\n",
    "        b=int(input(\"Masukkan angka ke 2\"))\n",
    "        c=a+b\n",
    "        print(f\"penjumlahan dari {a} + {b} adalah {c}\")\n",
    "    elif pilih==2:\n",
    "        print(\"anda memilih operasi pengurangan\")\n",
    "        a=int(input(\"Masukkan angka ke 1\"))\n",
    "        b=int(input(\"Masukkan angka ke 2\"))\n",
    "        c=a-b\n",
    "        print(f\"pengurangan dari {a} - {b} adalah {c}\")\n",
    "    elif pilih==3:\n",
    "        print(\"anda memilih operasi perkalian\")\n",
    "        a=int(input(\"Masukkan angka ke 1\"))\n",
    "        b=int(input(\"Masukkan angka ke 2\"))\n",
    "        c=a*b\n",
    "        print(f\"perkalian dari {a} * {b} adalah {c}\")\n",
    "    elif pilih==4:\n",
    "        print(\"anda memilih operasi pembagian\")\n",
    "        a=int(input(\"Masukkan angka ke 1\"))\n",
    "        b=int(input(\"Masukkan angka ke 2\"))\n",
    "        c=a/b\n",
    "        print(f\"pembagian dari {a} / {b} adalah {c}\")\n",
    "    else:\n",
    "        break\n"
   ]
  },
  {
   "cell_type": "code",
   "execution_count": null,
   "metadata": {},
   "outputs": [],
   "source": [
    "total=0\n",
    "for i in range(15):\n",
    "    data = int(input(\"masukkan bilangan\"))\n",
    "    total=total+data\n",
    "    print(f\"jumlah data pada iterasi ke {i+1} adalah {total}\")\n",
    "\n",
    "    mean=total/i\n",
    "    print(\"rata-ratanya adalah\", mean)"
   ]
  },
  {
   "cell_type": "code",
   "execution_count": 25,
   "metadata": {},
   "outputs": [
    {
     "name": "stdout",
     "output_type": "stream",
     "text": [
      "inputan tidak boleh negatif ya\n"
     ]
    }
   ],
   "source": [
    "total_ganjil=0\n",
    "total_genap=0\n",
    "angka=0\n",
    "while angka>=0:\n",
    "    angka = int(input(\"Masukkan bilangan\"))\n",
    "    if angka < 0:\n",
    "        print(f\"inputan tidak boleh negatif ya\")\n",
    "        break\n",
    "    elif angka%2 ==0:\n",
    "        print(f'bilangan {angka} adalah genap')\n",
    "        total_genap += 1\n",
    "        print(f\"total bilangan genap adalah\", total_genap)\n",
    "    elif angka%2 !=0:\n",
    "        print(f'bilangan {angka} adalah ganjil')\n",
    "        total_ganjil += 1\n",
    "        print(f\"total bilangan ganjil adalah\", total_ganjil)\n",
    "    else:\n",
    "        print(\"input nol tidak diizinkan. coba lagi\")\n",
    "\n",
    "        \n",
    "        "
   ]
  }
 ],
 "metadata": {
  "kernelspec": {
   "display_name": "Python 3",
   "language": "python",
   "name": "python3"
  },
  "language_info": {
   "codemirror_mode": {
    "name": "ipython",
    "version": 3
   },
   "file_extension": ".py",
   "mimetype": "text/x-python",
   "name": "python",
   "nbconvert_exporter": "python",
   "pygments_lexer": "ipython3",
   "version": "3.11.1"
  }
 },
 "nbformat": 4,
 "nbformat_minor": 2
}
